{
 "cells": [
  {
   "cell_type": "markdown",
   "id": "d858a5ca",
   "metadata": {
    "papermill": {
     "duration": 0.005085,
     "end_time": "2024-12-02T20:20:43.784921",
     "exception": false,
     "start_time": "2024-12-02T20:20:43.779836",
     "status": "completed"
    },
    "tags": []
   },
   "source": [
    "<font color='white' size=6>**<span style='background:midnightblue'>Machine Learing Sales Predictions based on Marketing Budgets \n",
    "        by Nathaniel Cekay    </span>**</font>"
   ]
  },
  {
   "cell_type": "markdown",
   "id": "b1c8a5e1",
   "metadata": {
    "papermill": {
     "duration": 0.004301,
     "end_time": "2024-12-02T20:20:43.793979",
     "exception": false,
     "start_time": "2024-12-02T20:20:43.789678",
     "status": "completed"
    },
    "tags": []
   },
   "source": [
    "# Table of Contents\n",
    "- [Introduction](#Introduction)\n",
    "- [Data Loading](#Data-Loading)\n",
    "- [Machine Learning](#Machine-Learning)"
   ]
  },
  {
   "cell_type": "markdown",
   "id": "387d006a",
   "metadata": {
    "papermill": {
     "duration": 0.004302,
     "end_time": "2024-12-02T20:20:43.802986",
     "exception": false,
     "start_time": "2024-12-02T20:20:43.798684",
     "status": "completed"
    },
    "tags": []
   },
   "source": [
    "#Introduction\n",
    "\n",
    "In this project, I utilize machine learning to forecast total sales by leveraging marketing budget data. The primary focus of this project is precision in sales predictions."
   ]
  },
  {
   "cell_type": "code",
   "execution_count": 1,
   "id": "1a9904ef",
   "metadata": {
    "execution": {
     "iopub.execute_input": "2024-12-02T20:20:43.814378Z",
     "iopub.status.busy": "2024-12-02T20:20:43.813992Z",
     "iopub.status.idle": "2024-12-02T20:20:45.945607Z",
     "shell.execute_reply": "2024-12-02T20:20:45.944522Z"
    },
    "papermill": {
     "duration": 2.140411,
     "end_time": "2024-12-02T20:20:45.948030",
     "exception": false,
     "start_time": "2024-12-02T20:20:43.807619",
     "status": "completed"
    },
    "tags": []
   },
   "outputs": [],
   "source": [
    "import numpy as np \n",
    "import pandas as pd \n",
    "from sklearn.linear_model import LinearRegression\n",
    "from sklearn.metrics import mean_squared_error\n",
    "from sklearn.metrics import r2_score\n",
    "from sklearn.preprocessing import StandardScaler\n",
    "from sklearn.model_selection import train_test_split\n",
    "from joblib import dump\n",
    "from joblib import load\n"
   ]
  },
  {
   "cell_type": "code",
   "execution_count": 2,
   "id": "531f4374",
   "metadata": {
    "execution": {
     "iopub.execute_input": "2024-12-02T20:20:45.959035Z",
     "iopub.status.busy": "2024-12-02T20:20:45.958562Z",
     "iopub.status.idle": "2024-12-02T20:20:45.963566Z",
     "shell.execute_reply": "2024-12-02T20:20:45.962339Z"
    },
    "papermill": {
     "duration": 0.012959,
     "end_time": "2024-12-02T20:20:45.965697",
     "exception": false,
     "start_time": "2024-12-02T20:20:45.952738",
     "status": "completed"
    },
    "tags": []
   },
   "outputs": [],
   "source": [
    "np.random.seed(42)"
   ]
  },
  {
   "cell_type": "markdown",
   "id": "9de472c5",
   "metadata": {
    "papermill": {
     "duration": 0.004251,
     "end_time": "2024-12-02T20:20:45.974630",
     "exception": false,
     "start_time": "2024-12-02T20:20:45.970379",
     "status": "completed"
    },
    "tags": []
   },
   "source": [
    "#Data-Loading"
   ]
  },
  {
   "cell_type": "code",
   "execution_count": 3,
   "id": "9059bd1d",
   "metadata": {
    "execution": {
     "iopub.execute_input": "2024-12-02T20:20:45.985163Z",
     "iopub.status.busy": "2024-12-02T20:20:45.984821Z",
     "iopub.status.idle": "2024-12-02T20:20:46.004512Z",
     "shell.execute_reply": "2024-12-02T20:20:46.003561Z"
    },
    "papermill": {
     "duration": 0.027801,
     "end_time": "2024-12-02T20:20:46.006915",
     "exception": false,
     "start_time": "2024-12-02T20:20:45.979114",
     "status": "completed"
    },
    "tags": []
   },
   "outputs": [],
   "source": [
    "budget_and_sales = pd.read_csv('/kaggle/input/advertising-sales-dataset/Advertising Budget and Sales.csv')"
   ]
  },
  {
   "cell_type": "code",
   "execution_count": 4,
   "id": "d261c5c2",
   "metadata": {
    "execution": {
     "iopub.execute_input": "2024-12-02T20:20:46.017990Z",
     "iopub.status.busy": "2024-12-02T20:20:46.017615Z",
     "iopub.status.idle": "2024-12-02T20:20:46.041386Z",
     "shell.execute_reply": "2024-12-02T20:20:46.040361Z"
    },
    "papermill": {
     "duration": 0.031992,
     "end_time": "2024-12-02T20:20:46.043728",
     "exception": false,
     "start_time": "2024-12-02T20:20:46.011736",
     "status": "completed"
    },
    "tags": []
   },
   "outputs": [
    {
     "data": {
      "text/html": [
       "<div>\n",
       "<style scoped>\n",
       "    .dataframe tbody tr th:only-of-type {\n",
       "        vertical-align: middle;\n",
       "    }\n",
       "\n",
       "    .dataframe tbody tr th {\n",
       "        vertical-align: top;\n",
       "    }\n",
       "\n",
       "    .dataframe thead th {\n",
       "        text-align: right;\n",
       "    }\n",
       "</style>\n",
       "<table border=\"1\" class=\"dataframe\">\n",
       "  <thead>\n",
       "    <tr style=\"text-align: right;\">\n",
       "      <th></th>\n",
       "      <th>Unnamed: 0</th>\n",
       "      <th>TV Ad Budget ($)</th>\n",
       "      <th>Radio Ad Budget ($)</th>\n",
       "      <th>Newspaper Ad Budget ($)</th>\n",
       "      <th>Sales ($)</th>\n",
       "    </tr>\n",
       "  </thead>\n",
       "  <tbody>\n",
       "    <tr>\n",
       "      <th>0</th>\n",
       "      <td>1</td>\n",
       "      <td>230.1</td>\n",
       "      <td>37.8</td>\n",
       "      <td>69.2</td>\n",
       "      <td>22.1</td>\n",
       "    </tr>\n",
       "    <tr>\n",
       "      <th>1</th>\n",
       "      <td>2</td>\n",
       "      <td>44.5</td>\n",
       "      <td>39.3</td>\n",
       "      <td>45.1</td>\n",
       "      <td>10.4</td>\n",
       "    </tr>\n",
       "    <tr>\n",
       "      <th>2</th>\n",
       "      <td>3</td>\n",
       "      <td>17.2</td>\n",
       "      <td>45.9</td>\n",
       "      <td>69.3</td>\n",
       "      <td>9.3</td>\n",
       "    </tr>\n",
       "    <tr>\n",
       "      <th>3</th>\n",
       "      <td>4</td>\n",
       "      <td>151.5</td>\n",
       "      <td>41.3</td>\n",
       "      <td>58.5</td>\n",
       "      <td>18.5</td>\n",
       "    </tr>\n",
       "    <tr>\n",
       "      <th>4</th>\n",
       "      <td>5</td>\n",
       "      <td>180.8</td>\n",
       "      <td>10.8</td>\n",
       "      <td>58.4</td>\n",
       "      <td>12.9</td>\n",
       "    </tr>\n",
       "  </tbody>\n",
       "</table>\n",
       "</div>"
      ],
      "text/plain": [
       "   Unnamed: 0  TV Ad Budget ($)  Radio Ad Budget ($)  Newspaper Ad Budget ($)  \\\n",
       "0           1             230.1                 37.8                     69.2   \n",
       "1           2              44.5                 39.3                     45.1   \n",
       "2           3              17.2                 45.9                     69.3   \n",
       "3           4             151.5                 41.3                     58.5   \n",
       "4           5             180.8                 10.8                     58.4   \n",
       "\n",
       "   Sales ($)  \n",
       "0       22.1  \n",
       "1       10.4  \n",
       "2        9.3  \n",
       "3       18.5  \n",
       "4       12.9  "
      ]
     },
     "execution_count": 4,
     "metadata": {},
     "output_type": "execute_result"
    }
   ],
   "source": [
    "budget_and_sales.head()"
   ]
  },
  {
   "cell_type": "code",
   "execution_count": 5,
   "id": "9649f2b3",
   "metadata": {
    "execution": {
     "iopub.execute_input": "2024-12-02T20:20:46.055006Z",
     "iopub.status.busy": "2024-12-02T20:20:46.054653Z",
     "iopub.status.idle": "2024-12-02T20:20:46.064950Z",
     "shell.execute_reply": "2024-12-02T20:20:46.063958Z"
    },
    "papermill": {
     "duration": 0.018098,
     "end_time": "2024-12-02T20:20:46.066888",
     "exception": false,
     "start_time": "2024-12-02T20:20:46.048790",
     "status": "completed"
    },
    "tags": []
   },
   "outputs": [
    {
     "data": {
      "text/plain": [
       "Unnamed: 0                 0\n",
       "TV Ad Budget ($)           0\n",
       "Radio Ad Budget ($)        0\n",
       "Newspaper Ad Budget ($)    0\n",
       "Sales ($)                  0\n",
       "dtype: int64"
      ]
     },
     "execution_count": 5,
     "metadata": {},
     "output_type": "execute_result"
    }
   ],
   "source": [
    "budget_and_sales.isna().sum()"
   ]
  },
  {
   "cell_type": "code",
   "execution_count": 6,
   "id": "68fcf591",
   "metadata": {
    "execution": {
     "iopub.execute_input": "2024-12-02T20:20:46.079508Z",
     "iopub.status.busy": "2024-12-02T20:20:46.078727Z",
     "iopub.status.idle": "2024-12-02T20:20:46.119488Z",
     "shell.execute_reply": "2024-12-02T20:20:46.118353Z"
    },
    "papermill": {
     "duration": 0.049979,
     "end_time": "2024-12-02T20:20:46.121743",
     "exception": false,
     "start_time": "2024-12-02T20:20:46.071764",
     "status": "completed"
    },
    "tags": []
   },
   "outputs": [
    {
     "name": "stdout",
     "output_type": "stream",
     "text": [
      "<class 'pandas.core.frame.DataFrame'>\n",
      "RangeIndex: 200 entries, 0 to 199\n",
      "Data columns (total 5 columns):\n",
      " #   Column                   Non-Null Count  Dtype  \n",
      "---  ------                   --------------  -----  \n",
      " 0   Unnamed: 0               200 non-null    int64  \n",
      " 1   TV Ad Budget ($)         200 non-null    float64\n",
      " 2   Radio Ad Budget ($)      200 non-null    float64\n",
      " 3   Newspaper Ad Budget ($)  200 non-null    float64\n",
      " 4   Sales ($)                200 non-null    float64\n",
      "dtypes: float64(4), int64(1)\n",
      "memory usage: 7.9 KB\n"
     ]
    },
    {
     "data": {
      "text/html": [
       "<div>\n",
       "<style scoped>\n",
       "    .dataframe tbody tr th:only-of-type {\n",
       "        vertical-align: middle;\n",
       "    }\n",
       "\n",
       "    .dataframe tbody tr th {\n",
       "        vertical-align: top;\n",
       "    }\n",
       "\n",
       "    .dataframe thead th {\n",
       "        text-align: right;\n",
       "    }\n",
       "</style>\n",
       "<table border=\"1\" class=\"dataframe\">\n",
       "  <thead>\n",
       "    <tr style=\"text-align: right;\">\n",
       "      <th></th>\n",
       "      <th>Unnamed: 0</th>\n",
       "      <th>TV Ad Budget ($)</th>\n",
       "      <th>Radio Ad Budget ($)</th>\n",
       "      <th>Newspaper Ad Budget ($)</th>\n",
       "      <th>Sales ($)</th>\n",
       "    </tr>\n",
       "  </thead>\n",
       "  <tbody>\n",
       "    <tr>\n",
       "      <th>count</th>\n",
       "      <td>200.000000</td>\n",
       "      <td>200.000000</td>\n",
       "      <td>200.000000</td>\n",
       "      <td>200.000000</td>\n",
       "      <td>200.000000</td>\n",
       "    </tr>\n",
       "    <tr>\n",
       "      <th>mean</th>\n",
       "      <td>100.500000</td>\n",
       "      <td>147.042500</td>\n",
       "      <td>23.264000</td>\n",
       "      <td>30.554000</td>\n",
       "      <td>14.022500</td>\n",
       "    </tr>\n",
       "    <tr>\n",
       "      <th>std</th>\n",
       "      <td>57.879185</td>\n",
       "      <td>85.854236</td>\n",
       "      <td>14.846809</td>\n",
       "      <td>21.778621</td>\n",
       "      <td>5.217457</td>\n",
       "    </tr>\n",
       "    <tr>\n",
       "      <th>min</th>\n",
       "      <td>1.000000</td>\n",
       "      <td>0.700000</td>\n",
       "      <td>0.000000</td>\n",
       "      <td>0.300000</td>\n",
       "      <td>1.600000</td>\n",
       "    </tr>\n",
       "    <tr>\n",
       "      <th>25%</th>\n",
       "      <td>50.750000</td>\n",
       "      <td>74.375000</td>\n",
       "      <td>9.975000</td>\n",
       "      <td>12.750000</td>\n",
       "      <td>10.375000</td>\n",
       "    </tr>\n",
       "    <tr>\n",
       "      <th>50%</th>\n",
       "      <td>100.500000</td>\n",
       "      <td>149.750000</td>\n",
       "      <td>22.900000</td>\n",
       "      <td>25.750000</td>\n",
       "      <td>12.900000</td>\n",
       "    </tr>\n",
       "    <tr>\n",
       "      <th>75%</th>\n",
       "      <td>150.250000</td>\n",
       "      <td>218.825000</td>\n",
       "      <td>36.525000</td>\n",
       "      <td>45.100000</td>\n",
       "      <td>17.400000</td>\n",
       "    </tr>\n",
       "    <tr>\n",
       "      <th>max</th>\n",
       "      <td>200.000000</td>\n",
       "      <td>296.400000</td>\n",
       "      <td>49.600000</td>\n",
       "      <td>114.000000</td>\n",
       "      <td>27.000000</td>\n",
       "    </tr>\n",
       "  </tbody>\n",
       "</table>\n",
       "</div>"
      ],
      "text/plain": [
       "       Unnamed: 0  TV Ad Budget ($)  Radio Ad Budget ($)  \\\n",
       "count  200.000000        200.000000           200.000000   \n",
       "mean   100.500000        147.042500            23.264000   \n",
       "std     57.879185         85.854236            14.846809   \n",
       "min      1.000000          0.700000             0.000000   \n",
       "25%     50.750000         74.375000             9.975000   \n",
       "50%    100.500000        149.750000            22.900000   \n",
       "75%    150.250000        218.825000            36.525000   \n",
       "max    200.000000        296.400000            49.600000   \n",
       "\n",
       "       Newspaper Ad Budget ($)   Sales ($)  \n",
       "count               200.000000  200.000000  \n",
       "mean                 30.554000   14.022500  \n",
       "std                  21.778621    5.217457  \n",
       "min                   0.300000    1.600000  \n",
       "25%                  12.750000   10.375000  \n",
       "50%                  25.750000   12.900000  \n",
       "75%                  45.100000   17.400000  \n",
       "max                 114.000000   27.000000  "
      ]
     },
     "execution_count": 6,
     "metadata": {},
     "output_type": "execute_result"
    }
   ],
   "source": [
    "budget_and_sales.info()\n",
    "budget_and_sales.describe()"
   ]
  },
  {
   "cell_type": "markdown",
   "id": "ab943c0b",
   "metadata": {
    "papermill": {
     "duration": 0.004886,
     "end_time": "2024-12-02T20:20:46.132134",
     "exception": false,
     "start_time": "2024-12-02T20:20:46.127248",
     "status": "completed"
    },
    "tags": []
   },
   "source": [
    "#Machine-Learning"
   ]
  },
  {
   "cell_type": "code",
   "execution_count": 7,
   "id": "591f124e",
   "metadata": {
    "execution": {
     "iopub.execute_input": "2024-12-02T20:20:46.143843Z",
     "iopub.status.busy": "2024-12-02T20:20:46.143434Z",
     "iopub.status.idle": "2024-12-02T20:20:46.181048Z",
     "shell.execute_reply": "2024-12-02T20:20:46.179990Z"
    },
    "papermill": {
     "duration": 0.045931,
     "end_time": "2024-12-02T20:20:46.183191",
     "exception": false,
     "start_time": "2024-12-02T20:20:46.137260",
     "status": "completed"
    },
    "tags": []
   },
   "outputs": [
    {
     "name": "stdout",
     "output_type": "stream",
     "text": [
      "Train RMSE: 1.6442982086509947\n",
      "Test RMSE: 1.788576100865966\n"
     ]
    }
   ],
   "source": [
    "X = budget_and_sales.drop(columns=[\"Sales ($)\"])\n",
    "y = budget_and_sales[\"Sales ($)\"]\n",
    "\n",
    "X_train, X_test, y_train, y_test = train_test_split(X, y, test_size=0.2, random_state=42)\n",
    "\n",
    "scaler = StandardScaler()\n",
    "X_train_scaled = scaler.fit_transform(X_train)\n",
    "X_test_scaled = scaler.transform(X_test)\n",
    "\n",
    "model = LinearRegression()\n",
    "model.fit(X_train_scaled, y_train)\n",
    "\n",
    "train_predictions = model.predict(X_train_scaled)\n",
    "test_predictions = model.predict(X_test_scaled)\n",
    "\n",
    "train_rmse = mean_squared_error(y_train, train_predictions, squared=False)\n",
    "test_rmse = mean_squared_error(y_test, test_predictions, squared=False)\n",
    "\n",
    "print(\"Train RMSE:\", train_rmse)\n",
    "print(\"Test RMSE:\", test_rmse)"
   ]
  },
  {
   "cell_type": "code",
   "execution_count": 8,
   "id": "0ed7d2b6",
   "metadata": {
    "execution": {
     "iopub.execute_input": "2024-12-02T20:20:46.195290Z",
     "iopub.status.busy": "2024-12-02T20:20:46.194628Z",
     "iopub.status.idle": "2024-12-02T20:20:46.203795Z",
     "shell.execute_reply": "2024-12-02T20:20:46.202796Z"
    },
    "papermill": {
     "duration": 0.017537,
     "end_time": "2024-12-02T20:20:46.205942",
     "exception": false,
     "start_time": "2024-12-02T20:20:46.188405",
     "status": "completed"
    },
    "tags": []
   },
   "outputs": [],
   "source": [
    "full_data = budget_and_sales\n",
    "\n",
    "X_full = full_data.drop(columns=[\"Sales ($)\"])\n",
    "\n",
    "scaler = StandardScaler()\n",
    "X_full_scaled = scaler.fit_transform(X_full)"
   ]
  },
  {
   "cell_type": "code",
   "execution_count": 9,
   "id": "91b34f9c",
   "metadata": {
    "execution": {
     "iopub.execute_input": "2024-12-02T20:20:46.218020Z",
     "iopub.status.busy": "2024-12-02T20:20:46.217675Z",
     "iopub.status.idle": "2024-12-02T20:20:46.227930Z",
     "shell.execute_reply": "2024-12-02T20:20:46.226918Z"
    },
    "papermill": {
     "duration": 0.018867,
     "end_time": "2024-12-02T20:20:46.230050",
     "exception": false,
     "start_time": "2024-12-02T20:20:46.211183",
     "status": "completed"
    },
    "tags": []
   },
   "outputs": [],
   "source": [
    "full_predictions = model.predict(X_full_scaled)\n",
    "\n",
    "full_data[\"Predicted_Sales\"] = full_predictions\n",
    "full_data.to_csv(\"full_dataset_with_predictions.csv\", index=False)"
   ]
  },
  {
   "cell_type": "code",
   "execution_count": 10,
   "id": "ec479e3b",
   "metadata": {
    "execution": {
     "iopub.execute_input": "2024-12-02T20:20:46.242662Z",
     "iopub.status.busy": "2024-12-02T20:20:46.241807Z",
     "iopub.status.idle": "2024-12-02T20:20:46.249962Z",
     "shell.execute_reply": "2024-12-02T20:20:46.248763Z"
    },
    "papermill": {
     "duration": 0.0167,
     "end_time": "2024-12-02T20:20:46.252117",
     "exception": false,
     "start_time": "2024-12-02T20:20:46.235417",
     "status": "completed"
    },
    "tags": []
   },
   "outputs": [
    {
     "name": "stdout",
     "output_type": "stream",
     "text": [
      "Root Mean Squared Error (RMSE) of LinearRegression model: 1.6801319503228778\n"
     ]
    }
   ],
   "source": [
    "mse_rf_fin = mean_squared_error(budget_and_sales[[\"Sales ($)\"]], full_predictions)\n",
    "rmse_rf_fin = np.sqrt(mse_rf_fin)\n",
    "\n",
    "print(\"Root Mean Squared Error (RMSE) of LinearRegression model:\", rmse_rf_fin)"
   ]
  },
  {
   "cell_type": "code",
   "execution_count": 11,
   "id": "f0883a70",
   "metadata": {
    "execution": {
     "iopub.execute_input": "2024-12-02T20:20:46.264131Z",
     "iopub.status.busy": "2024-12-02T20:20:46.263773Z",
     "iopub.status.idle": "2024-12-02T20:20:46.271528Z",
     "shell.execute_reply": "2024-12-02T20:20:46.270501Z"
    },
    "papermill": {
     "duration": 0.016293,
     "end_time": "2024-12-02T20:20:46.273588",
     "exception": false,
     "start_time": "2024-12-02T20:20:46.257295",
     "status": "completed"
    },
    "tags": []
   },
   "outputs": [
    {
     "name": "stdout",
     "output_type": "stream",
     "text": [
      "Train R-squared: 0.8957553000540606\n",
      "Test R-squared: 0.8986489151417081\n"
     ]
    }
   ],
   "source": [
    "train_r2 = model.score(X_train_scaled, y_train)\n",
    "test_r2 = model.score(X_test_scaled, y_test)\n",
    "\n",
    "print(\"Train R-squared:\", train_r2)\n",
    "print(\"Test R-squared:\", test_r2)"
   ]
  },
  {
   "cell_type": "markdown",
   "id": "9f8c1a40",
   "metadata": {
    "papermill": {
     "duration": 0.005011,
     "end_time": "2024-12-02T20:20:46.283908",
     "exception": false,
     "start_time": "2024-12-02T20:20:46.278897",
     "status": "completed"
    },
    "tags": []
   },
   "source": [
    "<font color='white' size=5>**<span style='background:midnightblue'>89.58% of the variance in the target variable Sales is explained by the features in the training data. \n",
    "89.86% of the variance in Sales is explained by the features in the test data  \n",
    "    </span>**</font>"
   ]
  },
  {
   "cell_type": "code",
   "execution_count": 12,
   "id": "396a2ddd",
   "metadata": {
    "execution": {
     "iopub.execute_input": "2024-12-02T20:20:46.296228Z",
     "iopub.status.busy": "2024-12-02T20:20:46.295348Z",
     "iopub.status.idle": "2024-12-02T20:20:46.301846Z",
     "shell.execute_reply": "2024-12-02T20:20:46.300896Z"
    },
    "papermill": {
     "duration": 0.014676,
     "end_time": "2024-12-02T20:20:46.303738",
     "exception": false,
     "start_time": "2024-12-02T20:20:46.289062",
     "status": "completed"
    },
    "tags": []
   },
   "outputs": [
    {
     "name": "stdout",
     "output_type": "stream",
     "text": [
      "Model saved successfully!\n"
     ]
    }
   ],
   "source": [
    "dump(model, 'saved_model.joblib')\n",
    "\n",
    "print(\"Model saved successfully!\")"
   ]
  },
  {
   "cell_type": "code",
   "execution_count": 13,
   "id": "e7436d66",
   "metadata": {
    "execution": {
     "iopub.execute_input": "2024-12-02T20:20:46.316387Z",
     "iopub.status.busy": "2024-12-02T20:20:46.315571Z",
     "iopub.status.idle": "2024-12-02T20:20:46.321514Z",
     "shell.execute_reply": "2024-12-02T20:20:46.320578Z"
    },
    "papermill": {
     "duration": 0.014296,
     "end_time": "2024-12-02T20:20:46.323394",
     "exception": false,
     "start_time": "2024-12-02T20:20:46.309098",
     "status": "completed"
    },
    "tags": []
   },
   "outputs": [
    {
     "name": "stdout",
     "output_type": "stream",
     "text": [
      "Model loaded successfully!\n"
     ]
    }
   ],
   "source": [
    "loaded_model = load('saved_model.joblib')\n",
    "\n",
    "print(\"Model loaded successfully!\")"
   ]
  },
  {
   "cell_type": "code",
   "execution_count": 14,
   "id": "cec22b71",
   "metadata": {
    "execution": {
     "iopub.execute_input": "2024-12-02T20:20:46.336006Z",
     "iopub.status.busy": "2024-12-02T20:20:46.335176Z",
     "iopub.status.idle": "2024-12-02T20:20:46.342395Z",
     "shell.execute_reply": "2024-12-02T20:20:46.341640Z"
    },
    "papermill": {
     "duration": 0.015577,
     "end_time": "2024-12-02T20:20:46.344369",
     "exception": false,
     "start_time": "2024-12-02T20:20:46.328792",
     "status": "completed"
    },
    "tags": []
   },
   "outputs": [],
   "source": [
    "loaded_model_predictions = loaded_model.predict(X_full_scaled)\n",
    "\n",
    "full_data[\"Predicted_Sales\"] = loaded_model_predictions\n",
    "full_data.to_csv(\"full_dataset_with_predictions.csv\", index=False)"
   ]
  },
  {
   "cell_type": "code",
   "execution_count": 15,
   "id": "7ea8f743",
   "metadata": {
    "execution": {
     "iopub.execute_input": "2024-12-02T20:20:46.356531Z",
     "iopub.status.busy": "2024-12-02T20:20:46.356175Z",
     "iopub.status.idle": "2024-12-02T20:20:46.364026Z",
     "shell.execute_reply": "2024-12-02T20:20:46.363078Z"
    },
    "papermill": {
     "duration": 0.016297,
     "end_time": "2024-12-02T20:20:46.366108",
     "exception": false,
     "start_time": "2024-12-02T20:20:46.349811",
     "status": "completed"
    },
    "tags": []
   },
   "outputs": [
    {
     "name": "stdout",
     "output_type": "stream",
     "text": [
      "Root Mean Squared Error (RMSE) of saved LinearRegression model: 1.6801319503228778\n"
     ]
    }
   ],
   "source": [
    "mse_final = mean_squared_error(budget_and_sales[[\"Sales ($)\"]], loaded_model_predictions)\n",
    "rmse_final = np.sqrt(mse_final)\n",
    "\n",
    "print(\"Root Mean Squared Error (RMSE) of saved LinearRegression model:\", rmse_final)"
   ]
  },
  {
   "cell_type": "code",
   "execution_count": 16,
   "id": "11885cde",
   "metadata": {
    "execution": {
     "iopub.execute_input": "2024-12-02T20:20:46.378700Z",
     "iopub.status.busy": "2024-12-02T20:20:46.378096Z",
     "iopub.status.idle": "2024-12-02T20:20:46.385522Z",
     "shell.execute_reply": "2024-12-02T20:20:46.384424Z"
    },
    "papermill": {
     "duration": 0.015694,
     "end_time": "2024-12-02T20:20:46.387280",
     "exception": false,
     "start_time": "2024-12-02T20:20:46.371586",
     "status": "completed"
    },
    "tags": []
   },
   "outputs": [
    {
     "name": "stdout",
     "output_type": "stream",
     "text": [
      "Train R-squared: 0.8957553000540606\n",
      "Test R-squared: 0.8986489151417081\n"
     ]
    }
   ],
   "source": [
    "loaded_model_train_r2 = loaded_model.score(X_train_scaled, y_train)\n",
    "loaded_model_test_r2 = loaded_model.score(X_test_scaled, y_test)\n",
    "\n",
    "print(\"Train R-squared:\", loaded_model_train_r2)\n",
    "print(\"Test R-squared:\", loaded_model_test_r2)"
   ]
  },
  {
   "cell_type": "markdown",
   "id": "db400d24",
   "metadata": {
    "papermill": {
     "duration": 0.00519,
     "end_time": "2024-12-02T20:20:46.397987",
     "exception": false,
     "start_time": "2024-12-02T20:20:46.392797",
     "status": "completed"
    },
    "tags": []
   },
   "source": [
    "<font color='white' size=5>**<span style='background:midnightblue'>The final model boasts an impressive RMSE score of 1.68, and an R-squared score of 0.89, showcasing its capability in making precise predictions. This indicates that, on average, the model's forecasts deviate by approximately 1.68 units from the actual values, and 89% if the variance in sales is explained by the features utilized in the test data.  Such a minimal deviation confirms the reliability and accuracy of our final model, affirming its efficacy for predicting sales in practical applications.  \n",
    "    </span>**</font>"
   ]
  }
 ],
 "metadata": {
  "kaggle": {
   "accelerator": "none",
   "dataSources": [
    {
     "datasetId": 1819823,
     "sourceId": 2968385,
     "sourceType": "datasetVersion"
    }
   ],
   "dockerImageVersionId": 30698,
   "isGpuEnabled": false,
   "isInternetEnabled": true,
   "language": "python",
   "sourceType": "notebook"
  },
  "kernelspec": {
   "display_name": "Python 3",
   "language": "python",
   "name": "python3"
  },
  "language_info": {
   "codemirror_mode": {
    "name": "ipython",
    "version": 3
   },
   "file_extension": ".py",
   "mimetype": "text/x-python",
   "name": "python",
   "nbconvert_exporter": "python",
   "pygments_lexer": "ipython3",
   "version": "3.10.13"
  },
  "papermill": {
   "default_parameters": {},
   "duration": 6.255955,
   "end_time": "2024-12-02T20:20:47.024944",
   "environment_variables": {},
   "exception": null,
   "input_path": "__notebook__.ipynb",
   "output_path": "__notebook__.ipynb",
   "parameters": {},
   "start_time": "2024-12-02T20:20:40.768989",
   "version": "2.5.0"
  }
 },
 "nbformat": 4,
 "nbformat_minor": 5
}
